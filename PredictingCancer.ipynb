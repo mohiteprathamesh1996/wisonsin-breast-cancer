{
  "nbformat": 4,
  "nbformat_minor": 0,
  "metadata": {
    "colab": {
      "name": "PredictingCancer.ipynb",
      "provenance": [],
      "authorship_tag": "ABX9TyPnwq+Baa6kDUVUc3obKo/C",
      "include_colab_link": true
    },
    "kernelspec": {
      "name": "python3",
      "display_name": "Python 3"
    }
  },
  "cells": [
    {
      "cell_type": "markdown",
      "metadata": {
        "id": "view-in-github",
        "colab_type": "text"
      },
      "source": [
        "<a href=\"https://colab.research.google.com/github/mohiteprathamesh1996/wisonsin-breast-cancer/blob/main/PredictingCancer.ipynb\" target=\"_parent\"><img src=\"https://colab.research.google.com/assets/colab-badge.svg\" alt=\"Open In Colab\"/></a>"
      ]
    },
    {
      "cell_type": "markdown",
      "metadata": {
        "id": "mTb1fO_Txj0M"
      },
      "source": [
        "<h2 align=\"center\">Automatic Machine Learning with H2O AutoML to predict Breast Cancer</h2>"
      ]
    },
    {
      "cell_type": "markdown",
      "metadata": {
        "id": "rbiwPh6-xnWF"
      },
      "source": [
        "#### Importing packages"
      ]
    },
    {
      "cell_type": "code",
      "metadata": {
        "id": "E5nAlc-zxf5l"
      },
      "source": [
        "import pandas as pd\r\n",
        "pd.options.display.max_rows = 999\r\n",
        "import numpy as np\r\n",
        "import matplotlib.pyplot as plt"
      ],
      "execution_count": 1,
      "outputs": []
    },
    {
      "cell_type": "markdown",
      "metadata": {
        "id": "Fm6g1U-4xtOS"
      },
      "source": [
        "#### Load data"
      ]
    },
    {
      "cell_type": "code",
      "metadata": {
        "colab": {
          "resources": {
            "http://localhost:8080/nbextensions/google.colab/files.js": {
              "data": "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",
              "ok": true,
              "headers": [
                [
                  "content-type",
                  "application/javascript"
                ]
              ],
              "status": 200,
              "status_text": ""
            }
          },
          "base_uri": "https://localhost:8080/",
          "height": 73
        },
        "id": "xPJ5XM8_xrBl",
        "outputId": "2582d99e-2bad-45c8-d5ae-4d490d4bcf34"
      },
      "source": [
        "from google.colab import files\r\n",
        "\r\n",
        "uploaded = files.upload()\r\n",
        "\r\n",
        "df_cancer = pd.read_csv(\"data.csv\")"
      ],
      "execution_count": 2,
      "outputs": [
        {
          "output_type": "display_data",
          "data": {
            "text/html": [
              "\n",
              "     <input type=\"file\" id=\"files-35c12d67-55de-4f3f-849b-64d113cbdb0b\" name=\"files[]\" multiple disabled\n",
              "        style=\"border:none\" />\n",
              "     <output id=\"result-35c12d67-55de-4f3f-849b-64d113cbdb0b\">\n",
              "      Upload widget is only available when the cell has been executed in the\n",
              "      current browser session. Please rerun this cell to enable.\n",
              "      </output>\n",
              "      <script src=\"/nbextensions/google.colab/files.js\"></script> "
            ],
            "text/plain": [
              "<IPython.core.display.HTML object>"
            ]
          },
          "metadata": {
            "tags": []
          }
        },
        {
          "output_type": "stream",
          "text": [
            "Saving data.csv to data.csv\n"
          ],
          "name": "stdout"
        }
      ]
    },
    {
      "cell_type": "markdown",
      "metadata": {
        "id": "XqobIG93zskD"
      },
      "source": [
        "#### Start H2O"
      ]
    },
    {
      "cell_type": "code",
      "metadata": {
        "colab": {
          "base_uri": "https://localhost:8080/",
          "height": 829
        },
        "id": "2XAeqQHzyeEC",
        "outputId": "2afcd490-f83a-4d49-bca1-559b41e16d29"
      },
      "source": [
        "!pip install h2o\r\n",
        "import h2o\r\n",
        "from h2o.automl import H2OAutoML\r\n",
        "h2o.init(max_mem_size=\"25G\")"
      ],
      "execution_count": 3,
      "outputs": [
        {
          "output_type": "stream",
          "text": [
            "Collecting h2o\n",
            "\u001b[?25l  Downloading https://files.pythonhosted.org/packages/d4/d4/5c07504a392e94786e7cf33554d961ac4b2863aa22a07b8579940ea1f6b5/h2o-3.32.0.4.tar.gz (164.6MB)\n",
            "\u001b[K     |████████████████████████████████| 164.6MB 74kB/s \n",
            "\u001b[?25hRequirement already satisfied: requests in /usr/local/lib/python3.6/dist-packages (from h2o) (2.23.0)\n",
            "Requirement already satisfied: tabulate in /usr/local/lib/python3.6/dist-packages (from h2o) (0.8.7)\n",
            "Requirement already satisfied: future in /usr/local/lib/python3.6/dist-packages (from h2o) (0.16.0)\n",
            "Collecting colorama>=0.3.8\n",
            "  Downloading https://files.pythonhosted.org/packages/44/98/5b86278fbbf250d239ae0ecb724f8572af1c91f4a11edf4d36a206189440/colorama-0.4.4-py2.py3-none-any.whl\n",
            "Requirement already satisfied: certifi>=2017.4.17 in /usr/local/lib/python3.6/dist-packages (from requests->h2o) (2020.12.5)\n",
            "Requirement already satisfied: urllib3!=1.25.0,!=1.25.1,<1.26,>=1.21.1 in /usr/local/lib/python3.6/dist-packages (from requests->h2o) (1.24.3)\n",
            "Requirement already satisfied: idna<3,>=2.5 in /usr/local/lib/python3.6/dist-packages (from requests->h2o) (2.10)\n",
            "Requirement already satisfied: chardet<4,>=3.0.2 in /usr/local/lib/python3.6/dist-packages (from requests->h2o) (3.0.4)\n",
            "Building wheels for collected packages: h2o\n",
            "  Building wheel for h2o (setup.py) ... \u001b[?25l\u001b[?25hdone\n",
            "  Created wheel for h2o: filename=h2o-3.32.0.4-py2.py3-none-any.whl size=164670979 sha256=bec80533a7a1647468674193dfd210a82b8e5d203b0a4bc398fc370618660e66\n",
            "  Stored in directory: /root/.cache/pip/wheels/65/f4/0d/c9bb958d70c2e015c968cb91cbd7f1b486933056d422337d75\n",
            "Successfully built h2o\n",
            "Installing collected packages: colorama, h2o\n",
            "Successfully installed colorama-0.4.4 h2o-3.32.0.4\n",
            "Checking whether there is an H2O instance running at http://localhost:54321 ..... not found.\n",
            "Attempting to start a local H2O server...\n",
            "  Java Version: openjdk version \"11.0.10\" 2021-01-19; OpenJDK Runtime Environment (build 11.0.10+9-Ubuntu-0ubuntu1.18.04); OpenJDK 64-Bit Server VM (build 11.0.10+9-Ubuntu-0ubuntu1.18.04, mixed mode, sharing)\n",
            "  Starting server from /usr/local/lib/python3.6/dist-packages/h2o/backend/bin/h2o.jar\n",
            "  Ice root: /tmp/tmpzev1e6d9\n",
            "  JVM stdout: /tmp/tmpzev1e6d9/h2o_unknownUser_started_from_python.out\n",
            "  JVM stderr: /tmp/tmpzev1e6d9/h2o_unknownUser_started_from_python.err\n",
            "  Server is running at http://127.0.0.1:54321\n",
            "Connecting to H2O server at http://127.0.0.1:54321 ... successful.\n"
          ],
          "name": "stdout"
        },
        {
          "output_type": "display_data",
          "data": {
            "text/html": [
              "<div style=\"overflow:auto\"><table style=\"width:50%\"><tr><td>H2O_cluster_uptime:</td>\n",
              "<td>03 secs</td></tr>\n",
              "<tr><td>H2O_cluster_timezone:</td>\n",
              "<td>Etc/UTC</td></tr>\n",
              "<tr><td>H2O_data_parsing_timezone:</td>\n",
              "<td>UTC</td></tr>\n",
              "<tr><td>H2O_cluster_version:</td>\n",
              "<td>3.32.0.4</td></tr>\n",
              "<tr><td>H2O_cluster_version_age:</td>\n",
              "<td>12 days </td></tr>\n",
              "<tr><td>H2O_cluster_name:</td>\n",
              "<td>H2O_from_python_unknownUser_yn1ffv</td></tr>\n",
              "<tr><td>H2O_cluster_total_nodes:</td>\n",
              "<td>1</td></tr>\n",
              "<tr><td>H2O_cluster_free_memory:</td>\n",
              "<td>25 Gb</td></tr>\n",
              "<tr><td>H2O_cluster_total_cores:</td>\n",
              "<td>2</td></tr>\n",
              "<tr><td>H2O_cluster_allowed_cores:</td>\n",
              "<td>2</td></tr>\n",
              "<tr><td>H2O_cluster_status:</td>\n",
              "<td>accepting new members, healthy</td></tr>\n",
              "<tr><td>H2O_connection_url:</td>\n",
              "<td>http://127.0.0.1:54321</td></tr>\n",
              "<tr><td>H2O_connection_proxy:</td>\n",
              "<td>{\"http\": null, \"https\": null}</td></tr>\n",
              "<tr><td>H2O_internal_security:</td>\n",
              "<td>False</td></tr>\n",
              "<tr><td>H2O_API_Extensions:</td>\n",
              "<td>Amazon S3, XGBoost, Algos, AutoML, Core V3, TargetEncoder, Core V4</td></tr>\n",
              "<tr><td>Python_version:</td>\n",
              "<td>3.6.9 final</td></tr></table></div>"
            ],
            "text/plain": [
              "--------------------------  ------------------------------------------------------------------\n",
              "H2O_cluster_uptime:         03 secs\n",
              "H2O_cluster_timezone:       Etc/UTC\n",
              "H2O_data_parsing_timezone:  UTC\n",
              "H2O_cluster_version:        3.32.0.4\n",
              "H2O_cluster_version_age:    12 days\n",
              "H2O_cluster_name:           H2O_from_python_unknownUser_yn1ffv\n",
              "H2O_cluster_total_nodes:    1\n",
              "H2O_cluster_free_memory:    25 Gb\n",
              "H2O_cluster_total_cores:    2\n",
              "H2O_cluster_allowed_cores:  2\n",
              "H2O_cluster_status:         accepting new members, healthy\n",
              "H2O_connection_url:         http://127.0.0.1:54321\n",
              "H2O_connection_proxy:       {\"http\": null, \"https\": null}\n",
              "H2O_internal_security:      False\n",
              "H2O_API_Extensions:         Amazon S3, XGBoost, Algos, AutoML, Core V3, TargetEncoder, Core V4\n",
              "Python_version:             3.6.9 final\n",
              "--------------------------  ------------------------------------------------------------------"
            ]
          },
          "metadata": {
            "tags": []
          }
        }
      ]
    },
    {
      "cell_type": "markdown",
      "metadata": {
        "id": "TfmcVjC7z67c"
      },
      "source": [
        "#### Load data to H2O"
      ]
    },
    {
      "cell_type": "code",
      "metadata": {
        "colab": {
          "base_uri": "https://localhost:8080/",
          "height": 499
        },
        "id": "S6b3NDS-0RB9",
        "outputId": "3fa9d6ca-d330-44b3-beac-aa53b1bb2a5b"
      },
      "source": [
        "df_cancer.drop(columns=[\"id\", \"Unnamed: 32\"], inplace=True)\r\n",
        "\r\n",
        "h20_df_cancer = h2o.H2OFrame(df_cancer)\r\n",
        "\r\n",
        "h20_df_cancer.describe()"
      ],
      "execution_count": 4,
      "outputs": [
        {
          "output_type": "stream",
          "text": [
            "Parse progress: |█████████████████████████████████████████████████████████| 100%\n",
            "Rows:569\n",
            "Cols:31\n",
            "\n",
            "\n"
          ],
          "name": "stdout"
        },
        {
          "output_type": "display_data",
          "data": {
            "text/html": [
              "<table>\n",
              "<thead>\n",
              "<tr><th>       </th><th>diagnosis  </th><th>radius_mean       </th><th>texture_mean      </th><th>perimeter_mean   </th><th>area_mean        </th><th>smoothness_mean     </th><th>compactness_mean   </th><th>concavity_mean     </th><th>concave points_mean  </th><th>symmetry_mean      </th><th>fractal_dimension_mean  </th><th>radius_se          </th><th>texture_se        </th><th>perimeter_se      </th><th>area_se           </th><th>smoothness_se       </th><th>compactness_se      </th><th>concavity_se        </th><th>concave points_se   </th><th>symmetry_se        </th><th>fractal_dimension_se  </th><th>radius_worst      </th><th>texture_worst     </th><th>perimeter_worst   </th><th>area_worst       </th><th>smoothness_worst    </th><th>compactness_worst  </th><th>concavity_worst    </th><th>concave points_worst  </th><th>symmetry_worst     </th><th>fractal_dimension_worst  </th></tr>\n",
              "</thead>\n",
              "<tbody>\n",
              "<tr><td>type   </td><td>enum       </td><td>real              </td><td>real              </td><td>real             </td><td>real             </td><td>real                </td><td>real               </td><td>real               </td><td>real                 </td><td>real               </td><td>real                    </td><td>real               </td><td>real              </td><td>real              </td><td>real              </td><td>real                </td><td>real                </td><td>real                </td><td>real                </td><td>real               </td><td>real                  </td><td>real              </td><td>real              </td><td>real              </td><td>real             </td><td>real                </td><td>real               </td><td>real               </td><td>real                  </td><td>real               </td><td>real                     </td></tr>\n",
              "<tr><td>mins   </td><td>           </td><td>6.981             </td><td>9.71              </td><td>43.79            </td><td>143.5            </td><td>0.05263             </td><td>0.01938            </td><td>0.0                </td><td>0.0                  </td><td>0.106              </td><td>0.04996                 </td><td>0.1115             </td><td>0.3602            </td><td>0.757             </td><td>6.8020000000000005</td><td>0.001713            </td><td>0.002252            </td><td>0.0                 </td><td>0.0                 </td><td>0.007882           </td><td>0.0008948000000000001 </td><td>7.93              </td><td>12.02             </td><td>50.41             </td><td>185.2            </td><td>0.07117000000000001 </td><td>0.02729            </td><td>0.0                </td><td>0.0                   </td><td>0.1565             </td><td>0.05504                  </td></tr>\n",
              "<tr><td>mean   </td><td>           </td><td>14.127291739894547</td><td>19.289648506151124</td><td>91.96903339191556</td><td>654.8891036906859</td><td>0.09636028119507913 </td><td>0.10434098418277679</td><td>0.08879931581722318</td><td>0.048919145869947306 </td><td>0.18116186291739875</td><td>0.06279760984182786     </td><td>0.4051720562390154 </td><td>1.216853427065028 </td><td>2.8660592267135288</td><td>40.337079086115935</td><td>0.007040978910369068</td><td>0.025478138840070295</td><td>0.03189371634446398 </td><td>0.011796137082601056</td><td>0.02054229876977155</td><td>0.003794903866432336  </td><td>16.269189806678376</td><td>25.677223198594042</td><td>107.26121265377856</td><td>880.5831282952548</td><td>0.13236859402460452 </td><td>0.2542650439367314 </td><td>0.27218848330404194</td><td>0.11460622319859404   </td><td>0.2900755711775047 </td><td>0.08394581722319859      </td></tr>\n",
              "<tr><td>maxs   </td><td>           </td><td>28.11             </td><td>39.28             </td><td>188.5            </td><td>2501.0           </td><td>0.1634              </td><td>0.3454             </td><td>0.4268             </td><td>0.2012               </td><td>0.304              </td><td>0.09744                 </td><td>2.873              </td><td>4.885             </td><td>21.98             </td><td>542.2             </td><td>0.03113             </td><td>0.1354              </td><td>0.396               </td><td>0.05279             </td><td>0.07895            </td><td>0.02984               </td><td>36.04             </td><td>49.54             </td><td>251.2             </td><td>4254.0           </td><td>0.2226              </td><td>1.058              </td><td>1.252              </td><td>0.29100000000000004   </td><td>0.6638             </td><td>0.2075                   </td></tr>\n",
              "<tr><td>sigma  </td><td>           </td><td>3.5240488262120793</td><td>4.301035768166948 </td><td>24.2989810387549 </td><td>351.9141291816529</td><td>0.014064128137673616</td><td>0.0528127579325122 </td><td>0.07971980870789352</td><td>0.03880284485915361  </td><td>0.02741428133603571</td><td>0.007060362795084459    </td><td>0.27731273298610387</td><td>0.5516483926172022</td><td>2.0218545540421085</td><td>45.49100551613178 </td><td>0.003002517943839066</td><td>0.017908179325677395</td><td>0.030186060322988394</td><td>0.006170285174046867</td><td>0.0082663715287984 </td><td>0.002646070967089195  </td><td>4.833241580469323 </td><td>6.146257623038323 </td><td>33.602542269036356</td><td>569.3569926699494</td><td>0.022832429404835465</td><td>0.157336488913742  </td><td>0.20862428060813235</td><td>0.06573234119594208   </td><td>0.06186746753751871</td><td>0.01806126734889399      </td></tr>\n",
              "<tr><td>zeros  </td><td>           </td><td>0                 </td><td>0                 </td><td>0                </td><td>0                </td><td>0                   </td><td>0                  </td><td>13                 </td><td>13                   </td><td>0                  </td><td>0                       </td><td>0                  </td><td>0                 </td><td>0                 </td><td>0                 </td><td>0                   </td><td>0                   </td><td>13                  </td><td>13                  </td><td>0                  </td><td>0                     </td><td>0                 </td><td>0                 </td><td>0                 </td><td>0                </td><td>0                   </td><td>0                  </td><td>13                 </td><td>13                    </td><td>0                  </td><td>0                        </td></tr>\n",
              "<tr><td>missing</td><td>0          </td><td>0                 </td><td>0                 </td><td>0                </td><td>0                </td><td>0                   </td><td>0                  </td><td>0                  </td><td>0                    </td><td>0                  </td><td>0                       </td><td>0                  </td><td>0                 </td><td>0                 </td><td>0                 </td><td>0                   </td><td>0                   </td><td>0                   </td><td>0                   </td><td>0                  </td><td>0                     </td><td>0                 </td><td>0                 </td><td>0                 </td><td>0                </td><td>0                   </td><td>0                  </td><td>0                  </td><td>0                     </td><td>0                  </td><td>0                        </td></tr>\n",
              "<tr><td>0      </td><td>M          </td><td>17.99             </td><td>10.38             </td><td>122.8            </td><td>1001.0           </td><td>0.1184              </td><td>0.2776             </td><td>0.3001             </td><td>0.1471               </td><td>0.2419             </td><td>0.07871                 </td><td>1.095              </td><td>0.9053            </td><td>8.589             </td><td>153.4             </td><td>0.006399            </td><td>0.04904             </td><td>0.05372999999999999 </td><td>0.01587             </td><td>0.03003            </td><td>0.006193              </td><td>25.38             </td><td>17.33             </td><td>184.6             </td><td>2019.0           </td><td>0.1622              </td><td>0.6656             </td><td>0.7119             </td><td>0.2654                </td><td>0.4601             </td><td>0.1189                   </td></tr>\n",
              "<tr><td>1      </td><td>M          </td><td>20.57             </td><td>17.77             </td><td>132.9            </td><td>1326.0           </td><td>0.08474             </td><td>0.07864            </td><td>0.0869             </td><td>0.07017000000000001  </td><td>0.1812             </td><td>0.056670000000000005    </td><td>0.5435             </td><td>0.7339            </td><td>3.398             </td><td>74.08             </td><td>0.005225            </td><td>0.01308             </td><td>0.0186              </td><td>0.0134              </td><td>0.01389            </td><td>0.003532              </td><td>24.99             </td><td>23.41             </td><td>158.8             </td><td>1956.0           </td><td>0.1238              </td><td>0.1866             </td><td>0.2416             </td><td>0.18600000000000003   </td><td>0.275              </td><td>0.08902                  </td></tr>\n",
              "<tr><td>2      </td><td>M          </td><td>19.69             </td><td>21.25             </td><td>130.0            </td><td>1203.0           </td><td>0.1096              </td><td>0.1599             </td><td>0.1974             </td><td>0.1279               </td><td>0.2069             </td><td>0.059989999999999995    </td><td>0.7456             </td><td>0.7869            </td><td>4.585             </td><td>94.03             </td><td>0.00615             </td><td>0.040060000000000005</td><td>0.03832             </td><td>0.02058             </td><td>0.0225             </td><td>0.004571              </td><td>23.57             </td><td>25.53             </td><td>152.5             </td><td>1709.0           </td><td>0.1444              </td><td>0.4245             </td><td>0.4504             </td><td>0.243                 </td><td>0.3613             </td><td>0.08757999999999999      </td></tr>\n",
              "<tr><td>3      </td><td>M          </td><td>11.42             </td><td>20.38             </td><td>77.58            </td><td>386.1            </td><td>0.1425              </td><td>0.2839             </td><td>0.2414             </td><td>0.1052               </td><td>0.2597             </td><td>0.09744                 </td><td>0.4956             </td><td>1.156             </td><td>3.445             </td><td>27.23             </td><td>0.00911             </td><td>0.07458             </td><td>0.05661             </td><td>0.01867             </td><td>0.05963            </td><td>0.009208              </td><td>14.91             </td><td>26.5              </td><td>98.87             </td><td>567.7            </td><td>0.2098              </td><td>0.8663             </td><td>0.6869             </td><td>0.2575                </td><td>0.6638             </td><td>0.173                    </td></tr>\n",
              "<tr><td>4      </td><td>M          </td><td>20.29             </td><td>14.34             </td><td>135.1            </td><td>1297.0           </td><td>0.1003              </td><td>0.1328             </td><td>0.198              </td><td>0.1043               </td><td>0.1809             </td><td>0.05882999999999999     </td><td>0.7572             </td><td>0.7813            </td><td>5.438             </td><td>94.44             </td><td>0.01149             </td><td>0.02461             </td><td>0.05687999999999999 </td><td>0.01885             </td><td>0.01756            </td><td>0.005115              </td><td>22.54             </td><td>16.67             </td><td>152.2             </td><td>1575.0           </td><td>0.1374              </td><td>0.205              </td><td>0.4                </td><td>0.1625                </td><td>0.2364             </td><td>0.07678                  </td></tr>\n",
              "<tr><td>5      </td><td>M          </td><td>12.45             </td><td>15.7              </td><td>82.57            </td><td>477.1            </td><td>0.1278              </td><td>0.17               </td><td>0.1578             </td><td>0.08089              </td><td>0.2087             </td><td>0.07612999999999999     </td><td>0.3345             </td><td>0.8902            </td><td>2.217             </td><td>27.19             </td><td>0.007509999999999999</td><td>0.03345             </td><td>0.03672             </td><td>0.01137             </td><td>0.02165            </td><td>0.005082              </td><td>15.47             </td><td>23.75             </td><td>103.4             </td><td>741.6            </td><td>0.1791              </td><td>0.5249             </td><td>0.5355             </td><td>0.1741                </td><td>0.3985             </td><td>0.1244                   </td></tr>\n",
              "<tr><td>6      </td><td>M          </td><td>18.25             </td><td>19.98             </td><td>119.6            </td><td>1040.0           </td><td>0.09463             </td><td>0.109              </td><td>0.1127             </td><td>0.07400000000000001  </td><td>0.1794             </td><td>0.057420000000000006    </td><td>0.4467             </td><td>0.7732            </td><td>3.18              </td><td>53.91             </td><td>0.004314            </td><td>0.01382             </td><td>0.02254             </td><td>0.01039             </td><td>0.01369            </td><td>0.002179              </td><td>22.88             </td><td>27.66             </td><td>153.2             </td><td>1606.0           </td><td>0.1442              </td><td>0.2576             </td><td>0.3784             </td><td>0.1932                </td><td>0.3063             </td><td>0.08367999999999999      </td></tr>\n",
              "<tr><td>7      </td><td>M          </td><td>13.71             </td><td>20.83             </td><td>90.2             </td><td>577.9            </td><td>0.1189              </td><td>0.1645             </td><td>0.09366            </td><td>0.05985              </td><td>0.2196             </td><td>0.07451                 </td><td>0.5835             </td><td>1.3769999999999998</td><td>3.856             </td><td>50.96             </td><td>0.008805            </td><td>0.030289999999999997</td><td>0.024880000000000003</td><td>0.014480000000000002</td><td>0.01486            </td><td>0.005412              </td><td>17.06             </td><td>28.14             </td><td>110.6             </td><td>897.0            </td><td>0.1654              </td><td>0.3682             </td><td>0.2678             </td><td>0.1556                </td><td>0.3196             </td><td>0.1151                   </td></tr>\n",
              "<tr><td>8      </td><td>M          </td><td>13.0              </td><td>21.82             </td><td>87.5             </td><td>519.8            </td><td>0.1273              </td><td>0.1932             </td><td>0.1859             </td><td>0.09353              </td><td>0.235              </td><td>0.07389                 </td><td>0.3063             </td><td>1.002             </td><td>2.406             </td><td>24.32             </td><td>0.005731            </td><td>0.035019999999999996</td><td>0.03553             </td><td>0.01226             </td><td>0.02143            </td><td>0.003749              </td><td>15.49             </td><td>30.73             </td><td>106.2             </td><td>739.3            </td><td>0.1703              </td><td>0.5401             </td><td>0.539              </td><td>0.206                 </td><td>0.4378             </td><td>0.1072                   </td></tr>\n",
              "<tr><td>9      </td><td>M          </td><td>12.46             </td><td>24.04             </td><td>83.97            </td><td>475.9            </td><td>0.1186              </td><td>0.2396             </td><td>0.2273             </td><td>0.08542999999999999  </td><td>0.203              </td><td>0.08242999999999999     </td><td>0.2976             </td><td>1.599             </td><td>2.039             </td><td>23.94             </td><td>0.007148999999999999</td><td>0.07217             </td><td>0.07743             </td><td>0.01432             </td><td>0.01789            </td><td>0.01008               </td><td>15.09             </td><td>40.68             </td><td>97.65             </td><td>711.4            </td><td>0.1853              </td><td>1.058              </td><td>1.105              </td><td>0.221                 </td><td>0.4366             </td><td>0.2075                   </td></tr>\n",
              "</tbody>\n",
              "</table>"
            ]
          },
          "metadata": {
            "tags": []
          }
        }
      ]
    },
    {
      "cell_type": "markdown",
      "metadata": {
        "id": "wAA9f-mW1D4O"
      },
      "source": [
        "#### Split training and test data"
      ]
    },
    {
      "cell_type": "code",
      "metadata": {
        "id": "FsMWfg5pyd3v"
      },
      "source": [
        "train, test = h20_df_cancer.split_frame(ratios=[0.70])\r\n",
        "\r\n",
        "x = train.columns\r\n",
        "y = \"diagnosis\"\r\n",
        "\r\n",
        "x.remove(y)"
      ],
      "execution_count": 5,
      "outputs": []
    },
    {
      "cell_type": "markdown",
      "metadata": {
        "id": "FMzuEn8B1O32"
      },
      "source": [
        "#### Run H2O AutoML"
      ]
    },
    {
      "cell_type": "code",
      "metadata": {
        "colab": {
          "base_uri": "https://localhost:8080/"
        },
        "id": "Tk-yNsDpyd0Y",
        "outputId": "7af3ea0d-5e4f-4d87-d08c-d9480762eb8c"
      },
      "source": [
        "aml = H2OAutoML(max_runtime_secs=1000, \r\n",
        "                balance_classes=True, \r\n",
        "                project_name=\"Final\")\r\n",
        "\r\n",
        "aml.train(x=x, y=y, training_frame = train)"
      ],
      "execution_count": 6,
      "outputs": [
        {
          "output_type": "stream",
          "text": [
            "AutoML progress: |████████████████████████████████████████████████████████| 100%\n"
          ],
          "name": "stdout"
        }
      ]
    },
    {
      "cell_type": "markdown",
      "metadata": {
        "id": "lb5IvQM31Ww7"
      },
      "source": [
        "#### AutoML Leaderboard and Ensemble Exploration"
      ]
    },
    {
      "cell_type": "code",
      "metadata": {
        "colab": {
          "base_uri": "https://localhost:8080/",
          "height": 238
        },
        "id": "SH0LxY8NydqB",
        "outputId": "4c90c53e-0c48-4eb9-a889-2cfd89869ec4"
      },
      "source": [
        "aml.leaderboard"
      ],
      "execution_count": 7,
      "outputs": [
        {
          "output_type": "display_data",
          "data": {
            "text/html": [
              "<table>\n",
              "<thead>\n",
              "<tr><th>model_id                                           </th><th style=\"text-align: right;\">     auc</th><th style=\"text-align: right;\">  logloss</th><th style=\"text-align: right;\">   aucpr</th><th style=\"text-align: right;\">  mean_per_class_error</th><th style=\"text-align: right;\">    rmse</th><th style=\"text-align: right;\">      mse</th></tr>\n",
              "</thead>\n",
              "<tbody>\n",
              "<tr><td>GBM_2_AutoML_20210214_000203                       </td><td style=\"text-align: right;\">0.992779</td><td style=\"text-align: right;\"> 0.10927 </td><td style=\"text-align: right;\">0.988689</td><td style=\"text-align: right;\">             0.0316329</td><td style=\"text-align: right;\">0.173268</td><td style=\"text-align: right;\">0.0300217</td></tr>\n",
              "<tr><td>GBM_grid__1_AutoML_20210214_000203_model_4         </td><td style=\"text-align: right;\">0.992373</td><td style=\"text-align: right;\"> 0.111884</td><td style=\"text-align: right;\">0.987389</td><td style=\"text-align: right;\">             0.0545761</td><td style=\"text-align: right;\">0.181672</td><td style=\"text-align: right;\">0.0330049</td></tr>\n",
              "<tr><td>GBM_grid__1_AutoML_20210214_000203_model_2         </td><td style=\"text-align: right;\">0.991592</td><td style=\"text-align: right;\"> 0.120347</td><td style=\"text-align: right;\">0.986559</td><td style=\"text-align: right;\">             0.0527163</td><td style=\"text-align: right;\">0.184203</td><td style=\"text-align: right;\">0.0339308</td></tr>\n",
              "<tr><td>DeepLearning_grid__2_AutoML_20210214_000203_model_1</td><td style=\"text-align: right;\">0.991248</td><td style=\"text-align: right;\"> 0.163564</td><td style=\"text-align: right;\">0.987731</td><td style=\"text-align: right;\">             0.0390723</td><td style=\"text-align: right;\">0.19123 </td><td style=\"text-align: right;\">0.0365688</td></tr>\n",
              "<tr><td>DeepLearning_grid__1_AutoML_20210214_000203_model_2</td><td style=\"text-align: right;\">0.990966</td><td style=\"text-align: right;\"> 0.115264</td><td style=\"text-align: right;\">0.986584</td><td style=\"text-align: right;\">             0.0314766</td><td style=\"text-align: right;\">0.167477</td><td style=\"text-align: right;\">0.0280484</td></tr>\n",
              "<tr><td>GBM_3_AutoML_20210214_000203                       </td><td style=\"text-align: right;\">0.990966</td><td style=\"text-align: right;\"> 0.117533</td><td style=\"text-align: right;\">0.986064</td><td style=\"text-align: right;\">             0.0395411</td><td style=\"text-align: right;\">0.183901</td><td style=\"text-align: right;\">0.0338195</td></tr>\n",
              "<tr><td>GBM_4_AutoML_20210214_000203                       </td><td style=\"text-align: right;\">0.990841</td><td style=\"text-align: right;\"> 0.116287</td><td style=\"text-align: right;\">0.986571</td><td style=\"text-align: right;\">             0.0376813</td><td style=\"text-align: right;\">0.179482</td><td style=\"text-align: right;\">0.0322139</td></tr>\n",
              "<tr><td>GBM_5_AutoML_20210214_000203                       </td><td style=\"text-align: right;\">0.990841</td><td style=\"text-align: right;\"> 0.103664</td><td style=\"text-align: right;\">0.988515</td><td style=\"text-align: right;\">             0.031164 </td><td style=\"text-align: right;\">0.165623</td><td style=\"text-align: right;\">0.027431 </td></tr>\n",
              "<tr><td>GBM_grid__1_AutoML_20210214_000203_model_5         </td><td style=\"text-align: right;\">0.99056 </td><td style=\"text-align: right;\"> 0.112939</td><td style=\"text-align: right;\">0.986043</td><td style=\"text-align: right;\">             0.0489966</td><td style=\"text-align: right;\">0.180477</td><td style=\"text-align: right;\">0.032572 </td></tr>\n",
              "<tr><td>GLM_1_AutoML_20210214_000203                       </td><td style=\"text-align: right;\">0.99056 </td><td style=\"text-align: right;\"> 0.1031  </td><td style=\"text-align: right;\">0.987433</td><td style=\"text-align: right;\">             0.0334927</td><td style=\"text-align: right;\">0.165657</td><td style=\"text-align: right;\">0.0274424</td></tr>\n",
              "</tbody>\n",
              "</table>"
            ]
          },
          "metadata": {
            "tags": []
          }
        },
        {
          "output_type": "execute_result",
          "data": {
            "text/plain": [
              ""
            ]
          },
          "metadata": {
            "tags": []
          },
          "execution_count": 7
        }
      ]
    },
    {
      "cell_type": "markdown",
      "metadata": {
        "id": "k70VA9xD1fZz"
      },
      "source": [
        "#### Model Exploration"
      ]
    },
    {
      "cell_type": "code",
      "metadata": {
        "colab": {
          "base_uri": "https://localhost:8080/",
          "height": 612
        },
        "id": "gooYP8Yzydmn",
        "outputId": "212bd166-95d8-4e6f-d416-409c819f0220"
      },
      "source": [
        "model = h2o.get_model(\"GBM_2_AutoML_20210214_000203\")\r\n",
        "\r\n",
        "model.varimp_plot()"
      ],
      "execution_count": 8,
      "outputs": [
        {
          "output_type": "display_data",
          "data": {
            "image/png": "[encoded data removed]",
            "text/plain": [
              "<Figure size 1008x720 with 1 Axes>"
            ]
          },
          "metadata": {
            "tags": [],
            "needs_background": "light"
          }
        }
      ]
    },
    {
      "cell_type": "markdown",
      "metadata": {
        "id": "Y8xGyPGN9ow2"
      },
      "source": [
        "#### Predicting on test data"
      ]
    },
    {
      "cell_type": "code",
      "metadata": {
        "colab": {
          "base_uri": "https://localhost:8080/",
          "height": 1000
        },
        "id": "7yVmb4_fydkF",
        "outputId": "819a5963-92a5-46ac-e187-ab339180be97"
      },
      "source": [
        "churn_pred=aml.leader.predict(test)\r\n",
        "\r\n",
        "aml.leader.model_performance(test)"
      ],
      "execution_count": 11,
      "outputs": [
        {
          "output_type": "stream",
          "text": [
            "gbm prediction progress: |████████████████████████████████████████████████| 100%\n",
            "\n",
            "ModelMetricsBinomial: gbm\n",
            "** Reported on test data. **\n",
            "\n",
            "MSE: 0.02295797931015472\n",
            "RMSE: 0.15151890743453347\n",
            "LogLoss: 0.07649625803041894\n",
            "Mean Per-Class Error: 0.019785564275450418\n",
            "AUC: 0.9978998563059578\n",
            "AUCPR: 0.9973896376564603\n",
            "Gini: 0.9957997126119156\n",
            "\n",
            "Confusion Matrix (Act/Pred) for max f1 @ threshold = 0.09540095244369944: \n"
          ],
          "name": "stdout"
        },
        {
          "output_type": "display_data",
          "data": {
            "text/html": [
              "<div>\n",
              "<style scoped>\n",
              "    .dataframe tbody tr th:only-of-type {\n",
              "        vertical-align: middle;\n",
              "    }\n",
              "\n",
              "    .dataframe tbody tr th {\n",
              "        vertical-align: top;\n",
              "    }\n",
              "\n",
              "    .dataframe thead th {\n",
              "        text-align: right;\n",
              "    }\n",
              "</style>\n",
              "<table border=\"1\" class=\"dataframe\">\n",
              "  <thead>\n",
              "    <tr style=\"text-align: right;\">\n",
              "      <th></th>\n",
              "      <th></th>\n",
              "      <th>B</th>\n",
              "      <th>M</th>\n",
              "      <th>Error</th>\n",
              "      <th>Rate</th>\n",
              "    </tr>\n",
              "  </thead>\n",
              "  <tbody>\n",
              "    <tr>\n",
              "      <th>0</th>\n",
              "      <td>B</td>\n",
              "      <td>106.0</td>\n",
              "      <td>3.0</td>\n",
              "      <td>0.0275</td>\n",
              "      <td>(3.0/109.0)</td>\n",
              "    </tr>\n",
              "    <tr>\n",
              "      <th>1</th>\n",
              "      <td>M</td>\n",
              "      <td>1.0</td>\n",
              "      <td>82.0</td>\n",
              "      <td>0.012</td>\n",
              "      <td>(1.0/83.0)</td>\n",
              "    </tr>\n",
              "    <tr>\n",
              "      <th>2</th>\n",
              "      <td>Total</td>\n",
              "      <td>107.0</td>\n",
              "      <td>85.0</td>\n",
              "      <td>0.0208</td>\n",
              "      <td>(4.0/192.0)</td>\n",
              "    </tr>\n",
              "  </tbody>\n",
              "</table>\n",
              "</div>"
            ],
            "text/plain": [
              "              B     M   Error          Rate\n",
              "0      B  106.0   3.0  0.0275   (3.0/109.0)\n",
              "1      M    1.0  82.0   0.012    (1.0/83.0)\n",
              "2  Total  107.0  85.0  0.0208   (4.0/192.0)"
            ]
          },
          "metadata": {
            "tags": []
          }
        },
        {
          "output_type": "stream",
          "text": [
            "\n",
            "Maximum Metrics: Maximum metrics at their respective thresholds\n"
          ],
          "name": "stdout"
        },
        {
          "output_type": "display_data",
          "data": {
            "text/html": [
              "<div>\n",
              "<style scoped>\n",
              "    .dataframe tbody tr th:only-of-type {\n",
              "        vertical-align: middle;\n",
              "    }\n",
              "\n",
              "    .dataframe tbody tr th {\n",
              "        vertical-align: top;\n",
              "    }\n",
              "\n",
              "    .dataframe thead th {\n",
              "        text-align: right;\n",
              "    }\n",
              "</style>\n",
              "<table border=\"1\" class=\"dataframe\">\n",
              "  <thead>\n",
              "    <tr style=\"text-align: right;\">\n",
              "      <th></th>\n",
              "      <th>metric</th>\n",
              "      <th>threshold</th>\n",
              "      <th>value</th>\n",
              "      <th>idx</th>\n",
              "    </tr>\n",
              "  </thead>\n",
              "  <tbody>\n",
              "    <tr>\n",
              "      <th>0</th>\n",
              "      <td>max f1</td>\n",
              "      <td>0.095401</td>\n",
              "      <td>0.976190</td>\n",
              "      <td>83.0</td>\n",
              "    </tr>\n",
              "    <tr>\n",
              "      <th>1</th>\n",
              "      <td>max f2</td>\n",
              "      <td>0.095401</td>\n",
              "      <td>0.983213</td>\n",
              "      <td>83.0</td>\n",
              "    </tr>\n",
              "    <tr>\n",
              "      <th>2</th>\n",
              "      <td>max f0point5</td>\n",
              "      <td>0.890342</td>\n",
              "      <td>0.987342</td>\n",
              "      <td>76.0</td>\n",
              "    </tr>\n",
              "    <tr>\n",
              "      <th>3</th>\n",
              "      <td>max accuracy</td>\n",
              "      <td>0.095401</td>\n",
              "      <td>0.979167</td>\n",
              "      <td>83.0</td>\n",
              "    </tr>\n",
              "    <tr>\n",
              "      <th>4</th>\n",
              "      <td>max precision</td>\n",
              "      <td>0.999712</td>\n",
              "      <td>1.000000</td>\n",
              "      <td>0.0</td>\n",
              "    </tr>\n",
              "    <tr>\n",
              "      <th>5</th>\n",
              "      <td>max recall</td>\n",
              "      <td>0.009289</td>\n",
              "      <td>1.000000</td>\n",
              "      <td>91.0</td>\n",
              "    </tr>\n",
              "    <tr>\n",
              "      <th>6</th>\n",
              "      <td>max specificity</td>\n",
              "      <td>0.999712</td>\n",
              "      <td>1.000000</td>\n",
              "      <td>0.0</td>\n",
              "    </tr>\n",
              "    <tr>\n",
              "      <th>7</th>\n",
              "      <td>max absolute_mcc</td>\n",
              "      <td>0.095401</td>\n",
              "      <td>0.957891</td>\n",
              "      <td>83.0</td>\n",
              "    </tr>\n",
              "    <tr>\n",
              "      <th>8</th>\n",
              "      <td>max min_per_class_accuracy</td>\n",
              "      <td>0.231283</td>\n",
              "      <td>0.972477</td>\n",
              "      <td>82.0</td>\n",
              "    </tr>\n",
              "    <tr>\n",
              "      <th>9</th>\n",
              "      <td>max mean_per_class_accuracy</td>\n",
              "      <td>0.095401</td>\n",
              "      <td>0.980214</td>\n",
              "      <td>83.0</td>\n",
              "    </tr>\n",
              "    <tr>\n",
              "      <th>10</th>\n",
              "      <td>max tns</td>\n",
              "      <td>0.999712</td>\n",
              "      <td>109.000000</td>\n",
              "      <td>0.0</td>\n",
              "    </tr>\n",
              "    <tr>\n",
              "      <th>11</th>\n",
              "      <td>max fns</td>\n",
              "      <td>0.999712</td>\n",
              "      <td>82.000000</td>\n",
              "      <td>0.0</td>\n",
              "    </tr>\n",
              "    <tr>\n",
              "      <th>12</th>\n",
              "      <td>max fps</td>\n",
              "      <td>0.000071</td>\n",
              "      <td>109.000000</td>\n",
              "      <td>190.0</td>\n",
              "    </tr>\n",
              "    <tr>\n",
              "      <th>13</th>\n",
              "      <td>max tps</td>\n",
              "      <td>0.009289</td>\n",
              "      <td>83.000000</td>\n",
              "      <td>91.0</td>\n",
              "    </tr>\n",
              "    <tr>\n",
              "      <th>14</th>\n",
              "      <td>max tnr</td>\n",
              "      <td>0.999712</td>\n",
              "      <td>1.000000</td>\n",
              "      <td>0.0</td>\n",
              "    </tr>\n",
              "    <tr>\n",
              "      <th>15</th>\n",
              "      <td>max fnr</td>\n",
              "      <td>0.999712</td>\n",
              "      <td>0.987952</td>\n",
              "      <td>0.0</td>\n",
              "    </tr>\n",
              "    <tr>\n",
              "      <th>16</th>\n",
              "      <td>max fpr</td>\n",
              "      <td>0.000071</td>\n",
              "      <td>1.000000</td>\n",
              "      <td>190.0</td>\n",
              "    </tr>\n",
              "    <tr>\n",
              "      <th>17</th>\n",
              "      <td>max tpr</td>\n",
              "      <td>0.009289</td>\n",
              "      <td>1.000000</td>\n",
              "      <td>91.0</td>\n",
              "    </tr>\n",
              "  </tbody>\n",
              "</table>\n",
              "</div>"
            ],
            "text/plain": [
              "                         metric  threshold       value    idx\n",
              "0                        max f1   0.095401    0.976190   83.0\n",
              "1                        max f2   0.095401    0.983213   83.0\n",
              "2                  max f0point5   0.890342    0.987342   76.0\n",
              "3                  max accuracy   0.095401    0.979167   83.0\n",
              "4                 max precision   0.999712    1.000000    0.0\n",
              "5                    max recall   0.009289    1.000000   91.0\n",
              "6               max specificity   0.999712    1.000000    0.0\n",
              "7              max absolute_mcc   0.095401    0.957891   83.0\n",
              "8    max min_per_class_accuracy   0.231283    0.972477   82.0\n",
              "9   max mean_per_class_accuracy   0.095401    0.980214   83.0\n",
              "10                      max tns   0.999712  109.000000    0.0\n",
              "11                      max fns   0.999712   82.000000    0.0\n",
              "12                      max fps   0.000071  109.000000  190.0\n",
              "13                      max tps   0.009289   83.000000   91.0\n",
              "14                      max tnr   0.999712    1.000000    0.0\n",
              "15                      max fnr   0.999712    0.987952    0.0\n",
              "16                      max fpr   0.000071    1.000000  190.0\n",
              "17                      max tpr   0.009289    1.000000   91.0"
            ]
          },
          "metadata": {
            "tags": []
          }
        },
        {
          "output_type": "stream",
          "text": [
            "\n",
            "Gains/Lift Table: Avg response rate: 43.23 %, avg score: 42.86 %\n"
          ],
          "name": "stdout"
        },
        {
          "output_type": "display_data",
          "data": {
            "text/html": [
              "<div>\n",
              "<style scoped>\n",
              "    .dataframe tbody tr th:only-of-type {\n",
              "        vertical-align: middle;\n",
              "    }\n",
              "\n",
              "    .dataframe tbody tr th {\n",
              "        vertical-align: top;\n",
              "    }\n",
              "\n",
              "    .dataframe thead th {\n",
              "        text-align: right;\n",
              "    }\n",
              "</style>\n",
              "<table border=\"1\" class=\"dataframe\">\n",
              "  <thead>\n",
              "    <tr style=\"text-align: right;\">\n",
              "      <th></th>\n",
              "      <th>group</th>\n",
              "      <th>cumulative_data_fraction</th>\n",
              "      <th>lower_threshold</th>\n",
              "      <th>lift</th>\n",
              "      <th>cumulative_lift</th>\n",
              "      <th>response_rate</th>\n",
              "      <th>score</th>\n",
              "      <th>cumulative_response_rate</th>\n",
              "      <th>cumulative_score</th>\n",
              "      <th>capture_rate</th>\n",
              "      <th>cumulative_capture_rate</th>\n",
              "      <th>gain</th>\n",
              "      <th>cumulative_gain</th>\n",
              "      <th>kolmogorov_smirnov</th>\n",
              "    </tr>\n",
              "  </thead>\n",
              "  <tbody>\n",
              "    <tr>\n",
              "      <th>0</th>\n",
              "      <td>1</td>\n",
              "      <td>0.010417</td>\n",
              "      <td>0.999702</td>\n",
              "      <td>2.313253</td>\n",
              "      <td>2.313253</td>\n",
              "      <td>1.000000</td>\n",
              "      <td>0.999707</td>\n",
              "      <td>1.000000</td>\n",
              "      <td>0.999707</td>\n",
              "      <td>0.024096</td>\n",
              "      <td>0.024096</td>\n",
              "      <td>131.325301</td>\n",
              "      <td>131.325301</td>\n",
              "      <td>0.024096</td>\n",
              "    </tr>\n",
              "    <tr>\n",
              "      <th>1</th>\n",
              "      <td>2</td>\n",
              "      <td>0.020833</td>\n",
              "      <td>0.999697</td>\n",
              "      <td>2.313253</td>\n",
              "      <td>2.313253</td>\n",
              "      <td>1.000000</td>\n",
              "      <td>0.999699</td>\n",
              "      <td>1.000000</td>\n",
              "      <td>0.999703</td>\n",
              "      <td>0.024096</td>\n",
              "      <td>0.048193</td>\n",
              "      <td>131.325301</td>\n",
              "      <td>131.325301</td>\n",
              "      <td>0.048193</td>\n",
              "    </tr>\n",
              "    <tr>\n",
              "      <th>2</th>\n",
              "      <td>3</td>\n",
              "      <td>0.031250</td>\n",
              "      <td>0.999696</td>\n",
              "      <td>2.313253</td>\n",
              "      <td>2.313253</td>\n",
              "      <td>1.000000</td>\n",
              "      <td>0.999697</td>\n",
              "      <td>1.000000</td>\n",
              "      <td>0.999701</td>\n",
              "      <td>0.024096</td>\n",
              "      <td>0.072289</td>\n",
              "      <td>131.325301</td>\n",
              "      <td>131.325301</td>\n",
              "      <td>0.072289</td>\n",
              "    </tr>\n",
              "    <tr>\n",
              "      <th>3</th>\n",
              "      <td>4</td>\n",
              "      <td>0.041667</td>\n",
              "      <td>0.999696</td>\n",
              "      <td>2.313253</td>\n",
              "      <td>2.313253</td>\n",
              "      <td>1.000000</td>\n",
              "      <td>0.999696</td>\n",
              "      <td>1.000000</td>\n",
              "      <td>0.999700</td>\n",
              "      <td>0.024096</td>\n",
              "      <td>0.096386</td>\n",
              "      <td>131.325301</td>\n",
              "      <td>131.325301</td>\n",
              "      <td>0.096386</td>\n",
              "    </tr>\n",
              "    <tr>\n",
              "      <th>4</th>\n",
              "      <td>5</td>\n",
              "      <td>0.052083</td>\n",
              "      <td>0.999696</td>\n",
              "      <td>2.313253</td>\n",
              "      <td>2.313253</td>\n",
              "      <td>1.000000</td>\n",
              "      <td>0.999696</td>\n",
              "      <td>1.000000</td>\n",
              "      <td>0.999699</td>\n",
              "      <td>0.024096</td>\n",
              "      <td>0.120482</td>\n",
              "      <td>131.325301</td>\n",
              "      <td>131.325301</td>\n",
              "      <td>0.120482</td>\n",
              "    </tr>\n",
              "    <tr>\n",
              "      <th>5</th>\n",
              "      <td>6</td>\n",
              "      <td>0.104167</td>\n",
              "      <td>0.999668</td>\n",
              "      <td>2.313253</td>\n",
              "      <td>2.313253</td>\n",
              "      <td>1.000000</td>\n",
              "      <td>0.999689</td>\n",
              "      <td>1.000000</td>\n",
              "      <td>0.999694</td>\n",
              "      <td>0.120482</td>\n",
              "      <td>0.240964</td>\n",
              "      <td>131.325301</td>\n",
              "      <td>131.325301</td>\n",
              "      <td>0.240964</td>\n",
              "    </tr>\n",
              "    <tr>\n",
              "      <th>6</th>\n",
              "      <td>7</td>\n",
              "      <td>0.151042</td>\n",
              "      <td>0.999621</td>\n",
              "      <td>2.313253</td>\n",
              "      <td>2.313253</td>\n",
              "      <td>1.000000</td>\n",
              "      <td>0.999644</td>\n",
              "      <td>1.000000</td>\n",
              "      <td>0.999678</td>\n",
              "      <td>0.108434</td>\n",
              "      <td>0.349398</td>\n",
              "      <td>131.325301</td>\n",
              "      <td>131.325301</td>\n",
              "      <td>0.349398</td>\n",
              "    </tr>\n",
              "    <tr>\n",
              "      <th>7</th>\n",
              "      <td>8</td>\n",
              "      <td>0.203125</td>\n",
              "      <td>0.999455</td>\n",
              "      <td>2.313253</td>\n",
              "      <td>2.313253</td>\n",
              "      <td>1.000000</td>\n",
              "      <td>0.999555</td>\n",
              "      <td>1.000000</td>\n",
              "      <td>0.999647</td>\n",
              "      <td>0.120482</td>\n",
              "      <td>0.469880</td>\n",
              "      <td>131.325301</td>\n",
              "      <td>131.325301</td>\n",
              "      <td>0.469880</td>\n",
              "    </tr>\n",
              "    <tr>\n",
              "      <th>8</th>\n",
              "      <td>9</td>\n",
              "      <td>0.302083</td>\n",
              "      <td>0.997946</td>\n",
              "      <td>2.313253</td>\n",
              "      <td>2.313253</td>\n",
              "      <td>1.000000</td>\n",
              "      <td>0.998782</td>\n",
              "      <td>1.000000</td>\n",
              "      <td>0.999364</td>\n",
              "      <td>0.228916</td>\n",
              "      <td>0.698795</td>\n",
              "      <td>131.325301</td>\n",
              "      <td>131.325301</td>\n",
              "      <td>0.698795</td>\n",
              "    </tr>\n",
              "    <tr>\n",
              "      <th>9</th>\n",
              "      <td>10</td>\n",
              "      <td>0.401042</td>\n",
              "      <td>0.912666</td>\n",
              "      <td>2.313253</td>\n",
              "      <td>2.313253</td>\n",
              "      <td>1.000000</td>\n",
              "      <td>0.985833</td>\n",
              "      <td>1.000000</td>\n",
              "      <td>0.996025</td>\n",
              "      <td>0.228916</td>\n",
              "      <td>0.927711</td>\n",
              "      <td>131.325301</td>\n",
              "      <td>131.325301</td>\n",
              "      <td>0.927711</td>\n",
              "    </tr>\n",
              "    <tr>\n",
              "      <th>10</th>\n",
              "      <td>11</td>\n",
              "      <td>0.500000</td>\n",
              "      <td>0.007693</td>\n",
              "      <td>0.730501</td>\n",
              "      <td>2.000000</td>\n",
              "      <td>0.315789</td>\n",
              "      <td>0.290690</td>\n",
              "      <td>0.864583</td>\n",
              "      <td>0.856427</td>\n",
              "      <td>0.072289</td>\n",
              "      <td>1.000000</td>\n",
              "      <td>-26.949905</td>\n",
              "      <td>100.000000</td>\n",
              "      <td>0.880734</td>\n",
              "    </tr>\n",
              "    <tr>\n",
              "      <th>11</th>\n",
              "      <td>12</td>\n",
              "      <td>0.598958</td>\n",
              "      <td>0.000827</td>\n",
              "      <td>0.000000</td>\n",
              "      <td>1.669565</td>\n",
              "      <td>0.000000</td>\n",
              "      <td>0.003102</td>\n",
              "      <td>0.721739</td>\n",
              "      <td>0.715443</td>\n",
              "      <td>0.000000</td>\n",
              "      <td>1.000000</td>\n",
              "      <td>-100.000000</td>\n",
              "      <td>66.956522</td>\n",
              "      <td>0.706422</td>\n",
              "    </tr>\n",
              "    <tr>\n",
              "      <th>12</th>\n",
              "      <td>13</td>\n",
              "      <td>0.697917</td>\n",
              "      <td>0.000305</td>\n",
              "      <td>0.000000</td>\n",
              "      <td>1.432836</td>\n",
              "      <td>0.000000</td>\n",
              "      <td>0.000509</td>\n",
              "      <td>0.619403</td>\n",
              "      <td>0.614072</td>\n",
              "      <td>0.000000</td>\n",
              "      <td>1.000000</td>\n",
              "      <td>-100.000000</td>\n",
              "      <td>43.283582</td>\n",
              "      <td>0.532110</td>\n",
              "    </tr>\n",
              "    <tr>\n",
              "      <th>13</th>\n",
              "      <td>14</td>\n",
              "      <td>0.796875</td>\n",
              "      <td>0.000192</td>\n",
              "      <td>0.000000</td>\n",
              "      <td>1.254902</td>\n",
              "      <td>0.000000</td>\n",
              "      <td>0.000238</td>\n",
              "      <td>0.542484</td>\n",
              "      <td>0.537844</td>\n",
              "      <td>0.000000</td>\n",
              "      <td>1.000000</td>\n",
              "      <td>-100.000000</td>\n",
              "      <td>25.490196</td>\n",
              "      <td>0.357798</td>\n",
              "    </tr>\n",
              "    <tr>\n",
              "      <th>14</th>\n",
              "      <td>15</td>\n",
              "      <td>0.895833</td>\n",
              "      <td>0.000136</td>\n",
              "      <td>0.000000</td>\n",
              "      <td>1.116279</td>\n",
              "      <td>0.000000</td>\n",
              "      <td>0.000165</td>\n",
              "      <td>0.482558</td>\n",
              "      <td>0.478449</td>\n",
              "      <td>0.000000</td>\n",
              "      <td>1.000000</td>\n",
              "      <td>-100.000000</td>\n",
              "      <td>11.627907</td>\n",
              "      <td>0.183486</td>\n",
              "    </tr>\n",
              "    <tr>\n",
              "      <th>15</th>\n",
              "      <td>16</td>\n",
              "      <td>1.000000</td>\n",
              "      <td>0.000071</td>\n",
              "      <td>0.000000</td>\n",
              "      <td>1.000000</td>\n",
              "      <td>0.000000</td>\n",
              "      <td>0.000108</td>\n",
              "      <td>0.432292</td>\n",
              "      <td>0.428622</td>\n",
              "      <td>0.000000</td>\n",
              "      <td>1.000000</td>\n",
              "      <td>-100.000000</td>\n",
              "      <td>0.000000</td>\n",
              "      <td>0.000000</td>\n",
              "    </tr>\n",
              "  </tbody>\n",
              "</table>\n",
              "</div>"
            ],
            "text/plain": [
              "    group  cumulative_data_fraction  ...  cumulative_gain  kolmogorov_smirnov\n",
              "0       1                  0.010417  ...       131.325301            0.024096\n",
              "1       2                  0.020833  ...       131.325301            0.048193\n",
              "2       3                  0.031250  ...       131.325301            0.072289\n",
              "3       4                  0.041667  ...       131.325301            0.096386\n",
              "4       5                  0.052083  ...       131.325301            0.120482\n",
              "5       6                  0.104167  ...       131.325301            0.240964\n",
              "6       7                  0.151042  ...       131.325301            0.349398\n",
              "7       8                  0.203125  ...       131.325301            0.469880\n",
              "8       9                  0.302083  ...       131.325301            0.698795\n",
              "9      10                  0.401042  ...       131.325301            0.927711\n",
              "10     11                  0.500000  ...       100.000000            0.880734\n",
              "11     12                  0.598958  ...        66.956522            0.706422\n",
              "12     13                  0.697917  ...        43.283582            0.532110\n",
              "13     14                  0.796875  ...        25.490196            0.357798\n",
              "14     15                  0.895833  ...        11.627907            0.183486\n",
              "15     16                  1.000000  ...         0.000000            0.000000\n",
              "\n",
              "[16 rows x 14 columns]"
            ]
          },
          "metadata": {
            "tags": []
          }
        },
        {
          "output_type": "stream",
          "text": [
            "\n"
          ],
          "name": "stdout"
        },
        {
          "output_type": "execute_result",
          "data": {
            "text/plain": [
              ""
            ]
          },
          "metadata": {
            "tags": []
          },
          "execution_count": 11
        }
      ]
    },
    {
      "cell_type": "markdown",
      "metadata": {
        "id": "AIDGdt7g-uQk"
      },
      "source": [
        "#### Save model"
      ]
    },
    {
      "cell_type": "code",
      "metadata": {
        "colab": {
          "base_uri": "https://localhost:8080/",
          "height": 35
        },
        "id": "ILtria-9-Y1r",
        "outputId": "802939d2-ba6f-4ad7-b3a5-4f06256a8ab9"
      },
      "source": [
        "aml.leader.download_mojo(path = './')"
      ],
      "execution_count": 12,
      "outputs": [
        {
          "output_type": "execute_result",
          "data": {
            "application/vnd.google.colaboratory.intrinsic+json": {
              "type": "string"
            },
            "text/plain": [
              "'/content/GBM_2_AutoML_20210214_000203.zip'"
            ]
          },
          "metadata": {
            "tags": []
          },
          "execution_count": 12
        }
      ]
    }
  ]
}